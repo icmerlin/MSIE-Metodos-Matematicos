{
 "cells": [
  {
   "cell_type": "markdown",
   "metadata": {},
   "source": [
    "#### Problema 2 (3 puntos)\n",
    "\n",
    "Utilizando [Kelley, 2013], teorema 2.14, resuelve la siguiente ecuación diferencial: $x'= Ax$, donde $A$ es la matriz\n",
    "\n",
    "$$\n",
    "\\begin{bmatrix}\n",
    "0 & 9 \\\\\n",
    "-9 & 0\n",
    "\\end{bmatrix}\n",
    "$$"
   ]
  },
  {
   "cell_type": "code",
   "execution_count": 12,
   "metadata": {
    "vscode": {
     "languageId": "sage"
    }
   },
   "outputs": [
    {
     "data": {
      "text/plain": [
       "[ 0  9]\n",
       "[-9  0]"
      ]
     },
     "execution_count": 12,
     "metadata": {},
     "output_type": "execute_result"
    }
   ],
   "source": [
    "A = matrix([[0,9], [-9, 0]])\n",
    "A"
   ]
  },
  {
   "cell_type": "code",
   "execution_count": 13,
   "metadata": {
    "vscode": {
     "languageId": "sage"
    }
   },
   "outputs": [
    {
     "data": {
      "text/plain": [
       "[(-9*I, [(1, -1.000000000000000?*I)], 1),\n",
       " (9*I, [(1, 1.000000000000000?*I)], 1)]"
      ]
     },
     "execution_count": 13,
     "metadata": {},
     "output_type": "execute_result"
    }
   ],
   "source": [
    "eigenvectors = A.eigenvectors_right()\n",
    "eigenvectors"
   ]
  },
  {
   "cell_type": "code",
   "execution_count": 14,
   "metadata": {
    "vscode": {
     "languageId": "sage"
    }
   },
   "outputs": [
    {
     "data": {
      "text/plain": [
       "(-9*I, (1, -1.000000000000000?*I))"
      ]
     },
     "execution_count": 14,
     "metadata": {},
     "output_type": "execute_result"
    }
   ],
   "source": [
    "lambda1 = eigenvectors[0][0]\n",
    "v1 = eigenvectors[0][1][0]\n",
    "lambda1, v1"
   ]
  },
  {
   "cell_type": "code",
   "execution_count": 15,
   "metadata": {
    "vscode": {
     "languageId": "sage"
    }
   },
   "outputs": [
    {
     "data": {
      "text/plain": [
       "(9*I, (1, 1.000000000000000?*I))"
      ]
     },
     "execution_count": 15,
     "metadata": {},
     "output_type": "execute_result"
    }
   ],
   "source": [
    "lambda2 = eigenvectors[1][0]\n",
    "v2 = eigenvectors[1][1][0]\n",
    "lambda2, v2"
   ]
  },
  {
   "cell_type": "code",
   "execution_count": 16,
   "metadata": {
    "vscode": {
     "languageId": "sage"
    }
   },
   "outputs": [
    {
     "data": {
      "text/plain": [
       "e^(-9*_I*t)"
      ]
     },
     "execution_count": 16,
     "metadata": {},
     "output_type": "execute_result"
    }
   ],
   "source": [
    "# https://github.com/sagemath/sage/issues/10038\n",
    "\n",
    "t = var('t')\n",
    "assume(t, 'real')\n",
    "\n",
    "u1 = e^(lambda1*t)\n",
    "u1.maxima_methods().demoivre()"
   ]
  },
  {
   "cell_type": "code",
   "execution_count": 17,
   "metadata": {
    "vscode": {
     "languageId": "sage"
    }
   },
   "outputs": [
    {
     "data": {
      "text/plain": [
       "cos(9.0*t) - I*sin(9.0*t)"
      ]
     },
     "execution_count": 17,
     "metadata": {},
     "output_type": "execute_result"
    }
   ],
   "source": [
    "CC = ComplexField()\n",
    "u1 = e^(CC(lambda1)*t)\n",
    "u1 = u1.maxima_methods().demoivre()\n",
    "u1"
   ]
  },
  {
   "cell_type": "code",
   "execution_count": 18,
   "metadata": {
    "vscode": {
     "languageId": "sage"
    }
   },
   "outputs": [
    {
     "data": {
      "text/plain": [
       "(cos(9.0*t) - I*sin(9.0*t), -1.000000000000000?*I*cos(9.0*t) - sin(9.0*t))"
      ]
     },
     "execution_count": 18,
     "metadata": {},
     "output_type": "execute_result"
    }
   ],
   "source": [
    "phi = u1*v1\n",
    "phi"
   ]
  },
  {
   "cell_type": "code",
   "execution_count": 19,
   "metadata": {
    "vscode": {
     "languageId": "sage"
    }
   },
   "outputs": [],
   "source": [
    "def separate_real_imag(complex_vector):\n",
    "    \"\"\"\n",
    "    Separate the real and imaginary parts of a vector of complex numbers.\n",
    "\n",
    "    Args:\n",
    "    complex_vector: A vector of complex numbers.\n",
    "\n",
    "    Returns:\n",
    "    A tuple containing the real vector and the imaginary vector.\n",
    "    \"\"\"\n",
    "    # Extract the real and imaginary parts for each component\n",
    "    real_parts = [z.real_part() for z in complex_vector]\n",
    "    imag_parts = [z.imag_part() for z in complex_vector]\n",
    "\n",
    "    # Form the real and imaginary vectors\n",
    "    real_vector = vector(real_parts)\n",
    "    imaginary_vector = vector(imag_parts)\n",
    "\n",
    "    return real_vector, imaginary_vector"
   ]
  },
  {
   "cell_type": "code",
   "execution_count": 20,
   "metadata": {
    "vscode": {
     "languageId": "sage"
    }
   },
   "outputs": [
    {
     "data": {
      "text/plain": [
       "((cos(9.0*t), -sin(9.0*t)), (-sin(9.0*t), -cos(9.0*t)))"
      ]
     },
     "execution_count": 20,
     "metadata": {},
     "output_type": "execute_result"
    }
   ],
   "source": [
    "phi1, phi2 = separate_real_imag(phi)\n",
    "phi1, phi2"
   ]
  },
  {
   "cell_type": "code",
   "execution_count": 21,
   "metadata": {
    "vscode": {
     "languageId": "sage"
    }
   },
   "outputs": [
    {
     "data": {
      "text/plain": [
       "(c1*cos(9.0*t) - c2*sin(9.0*t), -c2*cos(9.0*t) - c1*sin(9.0*t))"
      ]
     },
     "execution_count": 21,
     "metadata": {},
     "output_type": "execute_result"
    }
   ],
   "source": [
    "c1, c2 = var('c1 c2')\n",
    "assume(c1, 'real')\n",
    "assume(c2, 'real')\n",
    "\n",
    "x = c1*phi1 + c2*phi2\n",
    "x "
   ]
  },
  {
   "cell_type": "code",
   "execution_count": 22,
   "metadata": {
    "vscode": {
     "languageId": "sage"
    }
   },
   "outputs": [
    {
     "data": {
      "text/plain": [
       "(0, 0)"
      ]
     },
     "execution_count": 22,
     "metadata": {},
     "output_type": "execute_result"
    }
   ],
   "source": [
    "x.diff(t)-A*x"
   ]
  },
  {
   "cell_type": "code",
   "execution_count": null,
   "metadata": {
    "vscode": {
     "languageId": "sage"
    }
   },
   "outputs": [],
   "source": []
  }
 ],
 "metadata": {
  "kernelspec": {
   "display_name": "SageMath 9.5",
   "language": "sage",
   "name": "sagemath"
  },
  "language_info": {
   "codemirror_mode": {
    "name": "ipython",
    "version": 3
   },
   "file_extension": ".py",
   "mimetype": "text/x-python",
   "name": "python",
   "nbconvert_exporter": "python",
   "pygments_lexer": "ipython3",
   "version": "3.10.12"
  }
 },
 "nbformat": 4,
 "nbformat_minor": 2
}
