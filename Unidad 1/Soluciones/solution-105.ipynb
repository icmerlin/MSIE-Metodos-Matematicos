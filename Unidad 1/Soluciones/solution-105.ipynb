{
 "cells": [
  {
   "cell_type": "markdown",
   "metadata": {},
   "source": [
    "#### Problema 5 (3 puntos)\n",
    "\n",
    "Utiliza el algoritmo de Putzer ([Keller, 2013], teorema 2.33) para encontrar $e^{At}$, donde $A$ es la matriz\n",
    "$$\n",
    "\\begin{bmatrix}\n",
    "4 & 0 & 0 \\\\\n",
    "0 & 5 & 1 \\\\\n",
    "0 & 1 & 5\n",
    "\\end{bmatrix}\n",
    "$$"
   ]
  },
  {
   "cell_type": "code",
   "execution_count": 64,
   "metadata": {},
   "outputs": [
    {
     "data": {
      "text/plain": [
       "[4 0 0]\n",
       "[0 5 1]\n",
       "[0 1 5]"
      ]
     },
     "execution_count": 64,
     "metadata": {},
     "output_type": "execute_result"
    }
   ],
   "source": [
    "A = matrix([[4,0,0],[0,5,1],[0,1,5]])\n",
    "A"
   ]
  },
  {
   "cell_type": "code",
   "execution_count": 65,
   "metadata": {},
   "outputs": [
    {
     "data": {
      "text/plain": [
       "[(6,\n",
       "  [\n",
       "  (0, 1, 1)\n",
       "  ],\n",
       "  1),\n",
       " (4,\n",
       "  [\n",
       "  (1, 0, 0),\n",
       "  (0, 1, -1)\n",
       "  ],\n",
       "  2)]"
      ]
     },
     "execution_count": 65,
     "metadata": {},
     "output_type": "execute_result"
    }
   ],
   "source": [
    "eigenvectors = A.eigenvectors_right()   \n",
    "eigenvectors"
   ]
  },
  {
   "cell_type": "code",
   "execution_count": 66,
   "metadata": {},
   "outputs": [
    {
     "data": {
      "text/plain": [
       "(6, [(0, 1, 1)], 1)"
      ]
     },
     "execution_count": 66,
     "metadata": {},
     "output_type": "execute_result"
    }
   ],
   "source": [
    "lambda1, [v11], m1 = eigenvectors[0]\n",
    "lambda1, [v11], m1 "
   ]
  },
  {
   "cell_type": "code",
   "execution_count": 67,
   "metadata": {},
   "outputs": [
    {
     "data": {
      "text/plain": [
       "(4, [(1, 0, 0), (0, 1, -1)], 2)"
      ]
     },
     "execution_count": 67,
     "metadata": {},
     "output_type": "execute_result"
    }
   ],
   "source": [
    "lambda2, [v21, v22], m2 = eigenvectors[1]\n",
    "lambda2, [v21, v22], m2 "
   ]
  },
  {
   "cell_type": "code",
   "execution_count": 68,
   "metadata": {},
   "outputs": [
    {
     "data": {
      "text/plain": [
       "[6 0 0]\n",
       "[1 4 0]\n",
       "[0 1 4]"
      ]
     },
     "execution_count": 68,
     "metadata": {},
     "output_type": "execute_result"
    }
   ],
   "source": [
    "T = matrix([[lambda1,0,0],[1,lambda2,0],[0,1,lambda2]])\n",
    "T"
   ]
  },
  {
   "cell_type": "code",
   "execution_count": 69,
   "metadata": {},
   "outputs": [],
   "source": [
    "t = var('t')\n",
    "p1 = function('p1')(t)\n",
    "p2 = function('p2')(t)\n",
    "p3 = function('p3')(t)"
   ]
  },
  {
   "cell_type": "code",
   "execution_count": 70,
   "metadata": {},
   "outputs": [
    {
     "data": {
      "text/plain": [
       "e^(6*t)"
      ]
     },
     "execution_count": 70,
     "metadata": {},
     "output_type": "execute_result"
    }
   ],
   "source": [
    "q1(t) = desolve( diff(p1,t) == lambda1*p1, p1, ics=[0,1] )\n",
    "q1(t)"
   ]
  },
  {
   "cell_type": "code",
   "execution_count": 71,
   "metadata": {},
   "outputs": [
    {
     "data": {
      "text/plain": [
       "1/2*e^(6*t) - 1/2*e^(4*t)"
      ]
     },
     "execution_count": 71,
     "metadata": {},
     "output_type": "execute_result"
    }
   ],
   "source": [
    "q2(t) = desolve( diff(p2,t) == q1(t) + lambda2*p2, p2, ics=[0,0] )\n",
    "q2(t)"
   ]
  },
  {
   "cell_type": "code",
   "execution_count": 72,
   "metadata": {},
   "outputs": [
    {
     "data": {
      "text/plain": [
       "-1/4*(2*t + 1)*e^(4*t) + 1/4*e^(6*t)"
      ]
     },
     "execution_count": 72,
     "metadata": {},
     "output_type": "execute_result"
    }
   ],
   "source": [
    "q3(t) = desolve( diff(p3,t) == q2(t) + lambda2*p3, p3, ics=[0,0] )\n",
    "q3(t) "
   ]
  },
  {
   "cell_type": "code",
   "execution_count": 73,
   "metadata": {},
   "outputs": [
    {
     "data": {
      "text/plain": [
       "(\n",
       "[1 0 0]  [1 0 0]\n",
       "[0 1 0]  [0 1 0]\n",
       "[0 0 1], [0 0 1]\n",
       ")"
      ]
     },
     "execution_count": 73,
     "metadata": {},
     "output_type": "execute_result"
    }
   ],
   "source": [
    "M0 = I = identity_matrix(3)\n",
    "M0 , I"
   ]
  },
  {
   "cell_type": "code",
   "execution_count": 74,
   "metadata": {},
   "outputs": [
    {
     "data": {
      "text/plain": [
       "[-2  0  0]\n",
       "[ 0 -1  1]\n",
       "[ 0  1 -1]"
      ]
     },
     "execution_count": 74,
     "metadata": {},
     "output_type": "execute_result"
    }
   ],
   "source": [
    "M1 = A-lambda1*I \n",
    "M1 "
   ]
  },
  {
   "cell_type": "code",
   "execution_count": 75,
   "metadata": {},
   "outputs": [
    {
     "data": {
      "text/plain": [
       "[0 0 0]\n",
       "[0 1 1]\n",
       "[0 1 1]"
      ]
     },
     "execution_count": 75,
     "metadata": {},
     "output_type": "execute_result"
    }
   ],
   "source": [
    "(A-lambda2*I)"
   ]
  },
  {
   "cell_type": "code",
   "execution_count": 76,
   "metadata": {},
   "outputs": [
    {
     "data": {
      "text/plain": [
       "[0 0 0]\n",
       "[0 0 0]\n",
       "[0 0 0]"
      ]
     },
     "execution_count": 76,
     "metadata": {},
     "output_type": "execute_result"
    }
   ],
   "source": [
    "M2 = M1*(A-lambda2*I)\n",
    "M2 "
   ]
  },
  {
   "cell_type": "code",
   "execution_count": 77,
   "metadata": {},
   "outputs": [
    {
     "data": {
      "text/plain": [
       "[0 0 0]\n",
       "[0 0 0]\n",
       "[0 0 0]"
      ]
     },
     "execution_count": 77,
     "metadata": {},
     "output_type": "execute_result"
    }
   ],
   "source": [
    "M3 = M2*(A-lambda2*I)\n",
    "M3 "
   ]
  },
  {
   "cell_type": "code",
   "execution_count": 78,
   "metadata": {},
   "outputs": [
    {
     "data": {
      "text/plain": [
       "[                  e^(4*t)                         0                         0]\n",
       "[                        0 1/2*e^(6*t) + 1/2*e^(4*t) 1/2*e^(6*t) - 1/2*e^(4*t)]\n",
       "[                        0 1/2*e^(6*t) - 1/2*e^(4*t) 1/2*e^(6*t) + 1/2*e^(4*t)]"
      ]
     },
     "execution_count": 78,
     "metadata": {},
     "output_type": "execute_result"
    }
   ],
   "source": [
    "G = q1(t)*M0 + q2(t)*M1 + q3(t)*M2\n",
    "G "
   ]
  },
  {
   "cell_type": "code",
   "execution_count": 79,
   "metadata": {},
   "outputs": [
    {
     "data": {
      "text/plain": [
       "[                  e^(4*t)                         0                         0]\n",
       "[                        0 1/2*e^(6*t) + 1/2*e^(4*t) 1/2*e^(6*t) - 1/2*e^(4*t)]\n",
       "[                        0 1/2*e^(6*t) - 1/2*e^(4*t) 1/2*e^(6*t) + 1/2*e^(4*t)]"
      ]
     },
     "execution_count": 79,
     "metadata": {},
     "output_type": "execute_result"
    }
   ],
   "source": [
    "e^(A*t)"
   ]
  },
  {
   "cell_type": "code",
   "execution_count": 80,
   "metadata": {},
   "outputs": [
    {
     "data": {
      "text/plain": [
       "True"
      ]
     },
     "execution_count": 80,
     "metadata": {},
     "output_type": "execute_result"
    }
   ],
   "source": [
    "G==e^(A*t)"
   ]
  },
  {
   "cell_type": "code",
   "execution_count": null,
   "metadata": {},
   "outputs": [],
   "source": []
  }
 ],
 "metadata": {
  "kernelspec": {
   "display_name": "SageMath 9.5",
   "language": "sage",
   "name": "sagemath"
  },
  "language_info": {
   "codemirror_mode": {
    "name": "ipython",
    "version": 3
   },
   "file_extension": ".py",
   "mimetype": "text/x-python",
   "name": "sage",
   "nbconvert_exporter": "python",
   "pygments_lexer": "ipython3",
   "version": "3.10.12"
  }
 },
 "nbformat": 4,
 "nbformat_minor": 2
}
